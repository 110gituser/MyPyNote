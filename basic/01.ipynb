{
 "cells": [
  {
   "cell_type": "markdown",
   "id": "56509e8b",
   "metadata": {},
   "source": [
    "#### 1. 命名规则\n",
    "命名文件名时建议只使用小写字母、数字和下划线  \n",
    "文件名不能以数字开始"
   ]
  },
  {
   "cell_type": "markdown",
   "id": "3b0b06d0",
   "metadata": {},
   "source": [
    "#### 2. 运算符还可以用于字符串，计算结果就是字符串重复指定次数的结果"
   ]
  },
  {
   "cell_type": "code",
   "execution_count": 1,
   "id": "4e12c7e3",
   "metadata": {},
   "outputs": [
    {
     "data": {
      "text/plain": [
       "'**********'"
      ]
     },
     "execution_count": 1,
     "metadata": {},
     "output_type": "execute_result"
    }
   ],
   "source": [
    "\"*\" * 10"
   ]
  },
  {
   "cell_type": "code",
   "execution_count": null,
   "id": "3c9a3f5d",
   "metadata": {},
   "outputs": [],
   "source": []
  }
 ],
 "metadata": {
  "kernelspec": {
   "display_name": "Python 3",
   "language": "python",
   "name": "python3"
  },
  "language_info": {
   "codemirror_mode": {
    "name": "ipython",
    "version": 3
   },
   "file_extension": ".py",
   "mimetype": "text/x-python",
   "name": "python",
   "nbconvert_exporter": "python",
   "pygments_lexer": "ipython3",
   "version": "3.11.9"
  }
 },
 "nbformat": 4,
 "nbformat_minor": 5
}
